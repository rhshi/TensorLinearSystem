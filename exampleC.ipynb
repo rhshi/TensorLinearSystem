{
 "cells": [
  {
   "cell_type": "code",
   "execution_count": 1,
   "metadata": {},
   "outputs": [],
   "source": [
    "include(\"testingC.jl\");\n",
    "using Symbolics;"
   ]
  },
  {
   "cell_type": "markdown",
   "metadata": {},
   "source": [
    "This is an example script to produce the linear system matrices."
   ]
  },
  {
   "cell_type": "markdown",
   "metadata": {},
   "source": [
    "We parameterize the rank by $c$, and so $r=1+n+\\sum_{i=1}^c (n-i+1)$.  This allows us to count the variables and equations more easily."
   ]
  },
  {
   "cell_type": "code",
   "execution_count": 32,
   "metadata": {},
   "outputs": [],
   "source": [
    "n = 4\n",
    "c = 1;\n",
    "r = Int(1+(c+1)*n+c*(1-c)/2)\n",
    "\n",
    "A = randn(n+1, r);"
   ]
  },
  {
   "cell_type": "markdown",
   "metadata": {},
   "source": [
    "The following code produces the full linear system for the matrix $A$.  `X` represents the actual numerical values, while `Y` is the symbolic form.  "
   ]
  },
  {
   "cell_type": "code",
   "execution_count": 24,
   "metadata": {},
   "outputs": [],
   "source": [
    "X, Y, varTups, eqTups, h = linearSystemC(A, c);"
   ]
  },
  {
   "cell_type": "code",
   "execution_count": 25,
   "metadata": {},
   "outputs": [
    {
     "data": {
      "text/plain": [
       "51×20 Matrix{Complex}:\n",
       "    13.4734+0.0im     9.08964+0.0im  …        0.0+0.0im       0.0+0.0im\n",
       "    2.12101+0.0im      4.2391+0.0im           0.0+0.0im       0.0+0.0im\n",
       " -0.0388663+0.0im    -2.09122+0.0im           0.0+0.0im       0.0+0.0im\n",
       "  -0.293869+0.0im   -0.327941+0.0im           0.0+0.0im       0.0+0.0im\n",
       "  0.0303628+0.0im   -0.774023+0.0im           0.0+0.0im       0.0+0.0im\n",
       "    6.45163+0.0im      8.5576+0.0im  …        0.0+0.0im       0.0+0.0im\n",
       "        0.0+0.0im     13.4734+0.0im           0.0+0.0im       0.0+0.0im\n",
       "        0.0+0.0im     2.12101+0.0im           0.0+0.0im       0.0+0.0im\n",
       "        0.0+0.0im  -0.0388663+0.0im           0.0+0.0im       0.0+0.0im\n",
       "        0.0+0.0im   -0.293869+0.0im           0.0+0.0im       0.0+0.0im\n",
       "        0.0+0.0im   0.0303628+0.0im  …        0.0+0.0im       0.0+0.0im\n",
       "        0.0+0.0im     6.45163+0.0im           0.0+0.0im       0.0+0.0im\n",
       "        0.0+0.0im         0.0+0.0im           0.0+0.0im       0.0+0.0im\n",
       "           ⋮                         ⋱                   \n",
       "        0.0+0.0im         0.0+0.0im      -25.1032+0.0im       0.0+0.0im\n",
       "        0.0+0.0im         0.0+0.0im  …   -5.95335+0.0im  -25.1032+0.0im\n",
       "        0.0+0.0im         0.0+0.0im      -2.99336+0.0im       0.0+0.0im\n",
       "        0.0+0.0im         0.0+0.0im      -1.16358+0.0im       0.0+0.0im\n",
       "        0.0+0.0im         0.0+0.0im     -0.890288+0.0im  -2.99336+0.0im\n",
       "        0.0+0.0im         0.0+0.0im     -0.687638+0.0im  -1.16358+0.0im\n",
       "        0.0+0.0im         0.0+0.0im  …   -2.99336+0.0im       0.0+0.0im\n",
       "        0.0+0.0im         0.0+0.0im      -2.20679+0.0im       0.0+0.0im\n",
       "        0.0+0.0im         0.0+0.0im      0.506931+0.0im       0.0+0.0im\n",
       "        0.0+0.0im         0.0+0.0im      0.273296+0.0im  -2.99336+0.0im\n",
       "        0.0+0.0im         0.0+0.0im      -1.51141+0.0im  -2.20679+0.0im\n",
       "        0.0+0.0im         0.0+0.0im  …    8.93652+0.0im  0.506931+0.0im"
      ]
     },
     "execution_count": 25,
     "metadata": {},
     "output_type": "execute_result"
    }
   ],
   "source": [
    "X"
   ]
  },
  {
   "cell_type": "code",
   "execution_count": 26,
   "metadata": {},
   "outputs": [
    {
     "data": {
      "text/latex": [
       "$$ \\begin{equation}\n",
       "\\left[\n",
       "\\begin{array}{cccccccccccccccccccc}\n",
       " - h_1 & h_7 &  - h_{1 3} & h_{1 9} & h_0 & 0 & 0 & 0 & 0 & 0 & 0 & 0 & 0 & 0 & 0 & 0 & 0 & 0 & 0 & 0 \\\\\n",
       " - h_2 & h_8 &  - h_{1 4} & h_{2 0} & 0 & h_0 & 0 & 0 & 0 & 0 & 0 & 0 & 0 & 0 & 0 & 0 & 0 & 0 & 0 & 0 \\\\\n",
       " - h_3 & h_9 &  - h_{1 5} & h_{2 1} & 0 & 0 & h_0 & 0 & 0 & 0 & 0 & 0 & 0 & 0 & 0 & 0 & 0 & 0 & 0 & 0 \\\\\n",
       " - h_4 & h_{1 0} &  - h_{1 6} & h_{2 2} & 0 & 0 & 0 & h_0 & 0 & 0 & 0 & 0 & 0 & 0 & 0 & 0 & 0 & 0 & 0 & 0 \\\\\n",
       " - h_5 & h_{1 1} &  - h_{1 7} & h_{2 3} & 0 & 0 & 0 & 0 & h_0 & 0 & 0 & 0 & 0 & 0 & 0 & 0 & 0 & 0 & 0 & 0 \\\\\n",
       " - h_6 & h_{1 2} &  - h_{1 8} & h_{2 4} & 0 & 0 & 0 & 0 & 0 & h_0 & 0 & 0 & 0 & 0 & 0 & 0 & 0 & 0 & 0 & 0 \\\\\n",
       "0 &  - h_1 & 0 & 0 & h_7 &  - h_{1 3} & h_{1 9} & 0 & 0 & 0 & h_0 & 0 & 0 & 0 & 0 & 0 & 0 & 0 & 0 & 0 \\\\\n",
       "0 &  - h_2 & 0 & 0 & h_8 &  - h_{1 4} & h_{2 0} & 0 & 0 & 0 & 0 & h_0 & 0 & 0 & 0 & 0 & 0 & 0 & 0 & 0 \\\\\n",
       "0 &  - h_3 & 0 & 0 & h_9 &  - h_{1 5} & h_{2 1} & 0 & 0 & 0 & 0 & 0 & h_0 & 0 & 0 & 0 & 0 & 0 & 0 & 0 \\\\\n",
       "0 &  - h_4 & 0 & 0 & h_{1 0} &  - h_{1 6} & h_{2 2} & 0 & 0 & 0 & 0 & 0 & 0 & h_0 & 0 & 0 & 0 & 0 & 0 & 0 \\\\\n",
       "0 &  - h_5 & 0 & 0 & h_{1 1} &  - h_{1 7} & h_{2 3} & 0 & 0 & 0 & 0 & 0 & 0 & 0 & h_0 & 0 & 0 & 0 & 0 & 0 \\\\\n",
       "0 &  - h_6 & 0 & 0 & h_{1 2} &  - h_{1 8} & h_{2 4} & 0 & 0 & 0 & 0 & 0 & 0 & 0 & 0 & h_0 & 0 & 0 & 0 & 0 \\\\\n",
       "0 & 0 &  - h_1 & 0 & 0 & h_7 & 0 &  - h_{1 3} & h_{1 9} & 0 & 0 & h_0 & 0 & 0 & 0 & 0 & 0 & 0 & 0 & 0 \\\\\n",
       "0 & 0 &  - h_2 & 0 & 0 & h_8 & 0 &  - h_{1 4} & h_{2 0} & 0 & 0 & 0 & 0 & h_0 & 0 & 0 & 0 & 0 & 0 & 0 \\\\\n",
       "0 & 0 &  - h_3 & 0 & 0 & h_9 & 0 &  - h_{1 5} & h_{2 1} & 0 & 0 & 0 & 0 & 0 & h_0 & 0 & 0 & 0 & 0 & 0 \\\\\n",
       "0 & 0 &  - h_4 & 0 & 0 & h_{1 0} & 0 &  - h_{1 6} & h_{2 2} & 0 & 0 & 0 & 0 & 0 & 0 & 0 & h_0 & 0 & 0 & 0 \\\\\n",
       "0 & 0 &  - h_5 & 0 & 0 & h_{1 1} & 0 &  - h_{1 7} & h_{2 3} & 0 & 0 & 0 & 0 & 0 & 0 & 0 & 0 & h_0 & 0 & 0 \\\\\n",
       "0 & 0 &  - h_6 & 0 & 0 & h_{1 2} & 0 &  - h_{1 8} & h_{2 4} & 0 & 0 & 0 & 0 & 0 & 0 & 0 & 0 & 0 & h_0 & 0 \\\\\n",
       "0 & 0 & 0 &  - h_1 & 0 & 0 & h_7 & 0 &  - h_{1 3} & h_{1 9} & 0 & 0 & h_0 & 0 & 0 & 0 & 0 & 0 & 0 & 0 \\\\\n",
       "0 & 0 & 0 &  - h_2 & 0 & 0 & h_8 & 0 &  - h_{1 4} & h_{2 0} & 0 & 0 & 0 & 0 & h_0 & 0 & 0 & 0 & 0 & 0 \\\\\n",
       "0 & 0 & 0 &  - h_3 & 0 & 0 & h_9 & 0 &  - h_{1 5} & h_{2 1} & 0 & 0 & 0 & 0 & 0 & h_0 & 0 & 0 & 0 & 0 \\\\\n",
       "0 & 0 & 0 &  - h_4 & 0 & 0 & h_{1 0} & 0 &  - h_{1 6} & h_{2 2} & 0 & 0 & 0 & 0 & 0 & 0 & 0 & h_0 & 0 & 0 \\\\\n",
       "0 & 0 & 0 &  - h_5 & 0 & 0 & h_{1 1} & 0 &  - h_{1 7} & h_{2 3} & 0 & 0 & 0 & 0 & 0 & 0 & 0 & 0 & h_0 & 0 \\\\\n",
       "0 & 0 & 0 &  - h_6 & 0 & 0 & h_{1 2} & 0 &  - h_{1 8} & h_{2 4} & 0 & 0 & 0 & 0 & 0 & 0 & 0 & 0 & 0 & h_0 \\\\\n",
       "0 & 0 & 0 & 0 &  - h_2 & h_1 & 0 & 0 & 0 & 0 & h_8 &  - h_{1 4} - h_7 & h_{2 0} & h_{1 3} &  - h_{1 9} & 0 & 0 & 0 & 0 & 0 \\\\\n",
       "0 & 0 & 0 & 0 &  - h_3 & 0 & h_1 & 0 & 0 & 0 & h_9 &  - h_{1 5} & h_{2 1} - h_7 & 0 & h_{1 3} &  - h_{1 9} & 0 & 0 & 0 & 0 \\\\\n",
       "0 & 0 & 0 & 0 &  - h_4 & h_2 & 0 & 0 & 0 & 0 & h_{1 0} &  - h_{1 6} - h_8 & h_{2 2} & h_{1 4} &  - h_{2 0} & 0 & 0 & 0 & 0 & 0 \\\\\n",
       "0 & 0 & 0 & 0 &  - h_5 & h_3 & 0 & 0 & 0 & 0 & h_{1 1} &  - h_{1 7} - h_9 & h_{2 3} & h_{1 5} &  - h_{2 1} & 0 & 0 & 0 & 0 & 0 \\\\\n",
       "0 & 0 & 0 & 0 &  - h_5 & 0 & h_2 & 0 & 0 & 0 & h_{1 1} &  - h_{1 7} & h_{2 3} - h_8 & 0 & h_{1 4} &  - h_{2 0} & 0 & 0 & 0 & 0 \\\\\n",
       "0 & 0 & 0 & 0 &  - h_6 & 0 & h_3 & 0 & 0 & 0 & h_{1 2} &  - h_{1 8} & h_{2 4} - h_9 & 0 & h_{1 5} &  - h_{2 1} & 0 & 0 & 0 & 0 \\\\\n",
       "0 & 0 & 0 & 0 & 0 &  - h_2 & 0 & h_1 & 0 & 0 & 0 & h_8 & 0 &  - h_{1 4} - h_7 & h_{2 0} & 0 & h_{1 3} &  - h_{1 9} & 0 & 0 \\\\\n",
       "0 & 0 & 0 & 0 & 0 &  - h_3 & h_2 & 0 & 0 & 0 & 0 & h_9 &  - h_8 &  - h_{1 5} & h_{1 4} + h_{2 1} &  - h_{2 0} & 0 & 0 & 0 & 0 \\\\\n",
       "0 & 0 & 0 & 0 & 0 &  - h_3 & 0 & 0 & h_1 & 0 & 0 & h_9 & 0 &  - h_{1 5} & h_{2 1} - h_7 & 0 & 0 & h_{1 3} &  - h_{1 9} & 0 \\\\\n",
       "0 & 0 & 0 & 0 & 0 &  - h_4 & 0 & h_2 & 0 & 0 & 0 & h_{1 0} & 0 &  - h_{1 6} - h_8 & h_{2 2} & 0 & h_{1 4} &  - h_{2 0} & 0 & 0 \\\\\n",
       "0 & 0 & 0 & 0 & 0 &  - h_5 & h_4 & 0 & 0 & 0 & 0 & h_{1 1} &  - h_{1 0} &  - h_{1 7} & h_{1 6} + h_{2 3} &  - h_{2 2} & 0 & 0 & 0 & 0 \\\\\n",
       "0 & 0 & 0 & 0 & 0 &  - h_5 & 0 & h_3 & 0 & 0 & 0 & h_{1 1} & 0 &  - h_{1 7} - h_9 & h_{2 3} & 0 & h_{1 5} &  - h_{2 1} & 0 & 0 \\\\\n",
       "0 & 0 & 0 & 0 & 0 &  - h_5 & 0 & 0 & h_2 & 0 & 0 & h_{1 1} & 0 &  - h_{1 7} & h_{2 3} - h_8 & 0 & 0 & h_{1 4} &  - h_{2 0} & 0 \\\\\n",
       "0 & 0 & 0 & 0 & 0 &  - h_6 & h_5 & 0 & 0 & 0 & 0 & h_{1 2} &  - h_{1 1} &  - h_{1 8} & h_{1 7} + h_{2 4} &  - h_{2 3} & 0 & 0 & 0 & 0 \\\\\n",
       "0 & 0 & 0 & 0 & 0 &  - h_6 & 0 & 0 & h_3 & 0 & 0 & h_{1 2} & 0 &  - h_{1 8} & h_{2 4} - h_9 & 0 & 0 & h_{1 5} &  - h_{2 1} & 0 \\\\\n",
       "0 & 0 & 0 & 0 & 0 & 0 &  - h_2 & 0 & h_1 & 0 & 0 & 0 & h_8 & 0 &  - h_{1 4} - h_7 & h_{2 0} & 0 & h_{1 3} &  - h_{1 9} & 0 \\\\\n",
       "0 & 0 & 0 & 0 & 0 & 0 &  - h_3 & 0 & 0 & h_1 & 0 & 0 & h_9 & 0 &  - h_{1 5} & h_{2 1} - h_7 & 0 & 0 & h_{1 3} &  - h_{1 9} \\\\\n",
       "0 & 0 & 0 & 0 & 0 & 0 &  - h_4 & 0 & h_2 & 0 & 0 & 0 & h_{1 0} & 0 &  - h_{1 6} - h_8 & h_{2 2} & 0 & h_{1 4} &  - h_{2 0} & 0 \\\\\n",
       "0 & 0 & 0 & 0 & 0 & 0 &  - h_5 & 0 & h_3 & 0 & 0 & 0 & h_{1 1} & 0 &  - h_{1 7} - h_9 & h_{2 3} & 0 & h_{1 5} &  - h_{2 1} & 0 \\\\\n",
       "0 & 0 & 0 & 0 & 0 & 0 &  - h_5 & 0 & 0 & h_2 & 0 & 0 & h_{1 1} & 0 &  - h_{1 7} & h_{2 3} - h_8 & 0 & 0 & h_{1 4} &  - h_{2 0} \\\\\n",
       "0 & 0 & 0 & 0 & 0 & 0 &  - h_6 & 0 & 0 & h_3 & 0 & 0 & h_{1 2} & 0 &  - h_{1 8} & h_{2 4} - h_9 & 0 & 0 & h_{1 5} &  - h_{2 1} \\\\\n",
       "0 & 0 & 0 & 0 & 0 & 0 & 0 &  - h_3 & h_2 & 0 & 0 & 0 & 0 & h_9 &  - h_8 & 0 &  - h_{1 5} & h_{1 4} + h_{2 1} &  - h_{2 0} & 0 \\\\\n",
       "0 & 0 & 0 & 0 & 0 & 0 & 0 &  - h_5 & h_4 & 0 & 0 & 0 & 0 & h_{1 1} &  - h_{1 0} & 0 &  - h_{1 7} & h_{1 6} + h_{2 3} &  - h_{2 2} & 0 \\\\\n",
       "0 & 0 & 0 & 0 & 0 & 0 & 0 &  - h_6 & h_5 & 0 & 0 & 0 & 0 & h_{1 2} &  - h_{1 1} & 0 &  - h_{1 8} & h_{1 7} + h_{2 4} &  - h_{2 3} & 0 \\\\\n",
       "0 & 0 & 0 & 0 & 0 & 0 & 0 & 0 &  - h_3 & h_2 & 0 & 0 & 0 & 0 & h_9 &  - h_8 & 0 &  - h_{1 5} & h_{1 4} + h_{2 1} &  - h_{2 0} \\\\\n",
       "0 & 0 & 0 & 0 & 0 & 0 & 0 & 0 &  - h_5 & h_4 & 0 & 0 & 0 & 0 & h_{1 1} &  - h_{1 0} & 0 &  - h_{1 7} & h_{1 6} + h_{2 3} &  - h_{2 2} \\\\\n",
       "0 & 0 & 0 & 0 & 0 & 0 & 0 & 0 &  - h_6 & h_5 & 0 & 0 & 0 & 0 & h_{1 2} &  - h_{1 1} & 0 &  - h_{1 8} & h_{1 7} + h_{2 4} &  - h_{2 3} \\\\\n",
       "\\end{array}\n",
       "\\right]\n",
       "\\end{equation}\n",
       " $$"
      ],
      "text/plain": [
       "51×20 Matrix{Num}:\n",
       " -h[1]   h[7]  -h[13]  h[19]   h[0]       0      0  …              0       0\n",
       " -h[2]   h[8]  -h[14]  h[20]      0    h[0]      0                 0       0\n",
       " -h[3]   h[9]  -h[15]  h[21]      0       0   h[0]                 0       0\n",
       " -h[4]  h[10]  -h[16]  h[22]      0       0      0                 0       0\n",
       " -h[5]  h[11]  -h[17]  h[23]      0       0      0                 0       0\n",
       " -h[6]  h[12]  -h[18]  h[24]      0       0      0  …              0       0\n",
       "     0  -h[1]       0      0   h[7]  -h[13]  h[19]                 0       0\n",
       "     0  -h[2]       0      0   h[8]  -h[14]  h[20]                 0       0\n",
       "     0  -h[3]       0      0   h[9]  -h[15]  h[21]                 0       0\n",
       "     0  -h[4]       0      0  h[10]  -h[16]  h[22]                 0       0\n",
       "     0  -h[5]       0      0  h[11]  -h[17]  h[23]  …              0       0\n",
       "     0  -h[6]       0      0  h[12]  -h[18]  h[24]                 0       0\n",
       "     0      0   -h[1]      0      0    h[7]      0                 0       0\n",
       "     ⋮                                    ⋮         ⋱                 \n",
       "     0      0       0      0      0       0  -h[2]            -h[19]       0\n",
       "     0      0       0      0      0       0  -h[3]  …          h[13]  -h[19]\n",
       "     0      0       0      0      0       0  -h[4]            -h[20]       0\n",
       "     0      0       0      0      0       0  -h[5]            -h[21]       0\n",
       "     0      0       0      0      0       0  -h[5]             h[14]  -h[20]\n",
       "     0      0       0      0      0       0  -h[6]             h[15]  -h[21]\n",
       "     0      0       0      0      0       0      0  …         -h[20]       0\n",
       "     0      0       0      0      0       0      0            -h[22]       0\n",
       "     0      0       0      0      0       0      0            -h[23]       0\n",
       "     0      0       0      0      0       0      0     h[14] + h[21]  -h[20]\n",
       "     0      0       0      0      0       0      0     h[16] + h[23]  -h[22]\n",
       "     0      0       0      0      0       0      0  …  h[17] + h[24]  -h[23]"
      ]
     },
     "execution_count": 26,
     "metadata": {},
     "output_type": "execute_result"
    }
   ],
   "source": [
    "Y"
   ]
  },
  {
   "cell_type": "markdown",
   "metadata": {},
   "source": [
    "The following code produces a smaller version of the above.  First, we remove all of the equations such that $(\\alpha+e_i)_C, (\\alpha+e_j)_C=1$.  We are then left with a matrix with structure described in the Overleaf.  We then remove the equations that are obviously linearly independent of all else, and then take differences as needed.  We are then left with a matrix only spanning a subset of the variables.  We then take a square submatrix (or if there are not enough equations, we just take the matrix itself) of this resulting matrix, respecting some structure, that should result in something generically linearly independent."
   ]
  },
  {
   "cell_type": "code",
   "execution_count": 28,
   "metadata": {},
   "outputs": [],
   "source": [
    "X2, Y2, varTups2, eqTups2, _ = getSquareMat(A, c);"
   ]
  },
  {
   "cell_type": "code",
   "execution_count": 29,
   "metadata": {},
   "outputs": [
    {
     "data": {
      "text/plain": [
       "10×10 Matrix{Complex}:\n",
       "    13.4734+0.0im     9.08964+0.0im  …       0.0+0.0im       0.0+0.0im\n",
       "    2.12101+0.0im      4.2391+0.0im          0.0+0.0im       0.0+0.0im\n",
       " -0.0388663+0.0im    -2.09122+0.0im          0.0+0.0im       0.0+0.0im\n",
       "  -0.293869+0.0im   -0.327941+0.0im          0.0+0.0im       0.0+0.0im\n",
       "  0.0303628+0.0im   -0.774023+0.0im       1.4438+0.0im       0.0+0.0im\n",
       "    6.45163+0.0im      8.5576+0.0im  …       0.0+0.0im    1.4438+0.0im\n",
       "        0.0+0.0im     2.12101+0.0im     -25.1032+0.0im       0.0+0.0im\n",
       "        0.0+0.0im   -0.293869+0.0im     -2.99336+0.0im       0.0+0.0im\n",
       "        0.0+0.0im   0.0303628+0.0im     -1.16358+0.0im       0.0+0.0im\n",
       "        0.0+0.0im  -0.0388663+0.0im     -5.95335+0.0im  -25.1032+0.0im"
      ]
     },
     "execution_count": 29,
     "metadata": {},
     "output_type": "execute_result"
    }
   ],
   "source": [
    "X2"
   ]
  },
  {
   "cell_type": "code",
   "execution_count": 30,
   "metadata": {},
   "outputs": [
    {
     "data": {
      "text/latex": [
       "$$ \\begin{equation}\n",
       "\\left[\n",
       "\\begin{array}{cccccccccc}\n",
       " - h_1 & h_7 &  - h_{1 3} & h_{1 9} & h_0 & 0 & 0 & 0 & 0 & 0 \\\\\n",
       " - h_2 & h_8 &  - h_{1 4} & h_{2 0} & 0 & h_0 & 0 & 0 & 0 & 0 \\\\\n",
       " - h_3 & h_9 &  - h_{1 5} & h_{2 1} & 0 & 0 & h_0 & 0 & 0 & 0 \\\\\n",
       " - h_4 & h_{1 0} &  - h_{1 6} & h_{2 2} & 0 & 0 & 0 & h_0 & 0 & 0 \\\\\n",
       " - h_5 & h_{1 1} &  - h_{1 7} & h_{2 3} & 0 & 0 & 0 & 0 & h_0 & 0 \\\\\n",
       " - h_6 & h_{1 2} &  - h_{1 8} & h_{2 4} & 0 & 0 & 0 & 0 & 0 & h_0 \\\\\n",
       "0 &  - h_2 & h_1 & 0 & h_8 &  - h_{1 4} - h_7 & h_{2 0} & h_{1 3} &  - h_{1 9} & 0 \\\\\n",
       "0 &  - h_4 & h_2 & 0 & h_{1 0} &  - h_{1 6} - h_8 & h_{2 2} & h_{1 4} &  - h_{2 0} & 0 \\\\\n",
       "0 &  - h_5 & h_3 & 0 & h_{1 1} &  - h_{1 7} - h_9 & h_{2 3} & h_{1 5} &  - h_{2 1} & 0 \\\\\n",
       "0 &  - h_3 & 0 & h_1 & h_9 &  - h_{1 5} & h_{2 1} - h_7 & 0 & h_{1 3} &  - h_{1 9} \\\\\n",
       "\\end{array}\n",
       "\\right]\n",
       "\\end{equation}\n",
       " $$"
      ],
      "text/plain": [
       "10×10 Matrix{Num}:\n",
       " -h[1]   h[7]  -h[13]  h[19]   h[0]  …             0      0       0       0\n",
       " -h[2]   h[8]  -h[14]  h[20]      0                0      0       0       0\n",
       " -h[3]   h[9]  -h[15]  h[21]      0             h[0]      0       0       0\n",
       " -h[4]  h[10]  -h[16]  h[22]      0                0   h[0]       0       0\n",
       " -h[5]  h[11]  -h[17]  h[23]      0                0      0    h[0]       0\n",
       " -h[6]  h[12]  -h[18]  h[24]      0  …             0      0       0    h[0]\n",
       "     0  -h[2]    h[1]      0   h[8]            h[20]  h[13]  -h[19]       0\n",
       "     0  -h[4]    h[2]      0  h[10]            h[22]  h[14]  -h[20]       0\n",
       "     0  -h[5]    h[3]      0  h[11]            h[23]  h[15]  -h[21]       0\n",
       "     0  -h[3]       0   h[1]   h[9]     h[21] - h[7]      0   h[13]  -h[19]"
      ]
     },
     "execution_count": 30,
     "metadata": {},
     "output_type": "execute_result"
    }
   ],
   "source": [
    "Y2"
   ]
  },
  {
   "cell_type": "code",
   "execution_count": 31,
   "metadata": {},
   "outputs": [
    {
     "data": {
      "text/plain": [
       "10-element Vector{Float64}:\n",
       " 38.12666329159636\n",
       " 30.914479469723062\n",
       " 24.970308899084646\n",
       "  6.2021496587919\n",
       "  3.8693256605489372\n",
       "  2.0369481146539163\n",
       "  1.7736615270555582\n",
       "  0.9276675693556332\n",
       "  0.29369071666054625\n",
       "  0.05834241964816646"
      ]
     },
     "execution_count": 31,
     "metadata": {},
     "output_type": "execute_result"
    }
   ],
   "source": [
    "# The matrix is linearly independent\n",
    "\n",
    "svdvals(X2)"
   ]
  },
  {
   "cell_type": "markdown",
   "metadata": {},
   "source": [
    "Roughly speaking, I claim that if `X2` is full rank, then the original matrix (ignoring the equations such that $(\\alpha+e_i)_C, (\\alpha+e_j)_C=1$) should also be full rank, at least when we are in the fully generic regime.  We see that `Y2` is much easier to analyze than `Y`.  Another reason we might want to analyze `Y2` instead of `Y` is that there are subsets of rows of `Y` that are linearly dependent, but not because of solely sparsity patterns."
   ]
  },
  {
   "cell_type": "code",
   "execution_count": 34,
   "metadata": {},
   "outputs": [],
   "source": [
    "n = 3\n",
    "c = 1;\n",
    "r = Int(1+(c+1)*n+c*(1-c)/2)\n",
    "\n",
    "A = randn(n+1, r);"
   ]
  },
  {
   "cell_type": "code",
   "execution_count": 35,
   "metadata": {},
   "outputs": [],
   "source": [
    "X, Y, varTups, eqTups, h = linearSystemC(A, c);"
   ]
  },
  {
   "cell_type": "code",
   "execution_count": 36,
   "metadata": {},
   "outputs": [
    {
     "data": {
      "text/plain": [
       "13×10 Matrix{Complex}:\n",
       " -0.0178737+0.0im  -0.0418639+0.0im  …         0.0+0.0im         0.0+0.0im\n",
       "  -0.079279+0.0im   0.0720541+0.0im            0.0+0.0im         0.0+0.0im\n",
       " -0.0276877+0.0im   0.0182816+0.0im            0.0+0.0im         0.0+0.0im\n",
       "        0.0+0.0im  -0.0178737+0.0im            0.0+0.0im         0.0+0.0im\n",
       "        0.0+0.0im   -0.079279+0.0im            0.0+0.0im         0.0+0.0im\n",
       "        0.0+0.0im  -0.0276877+0.0im  …   0.0277405+0.0im         0.0+0.0im\n",
       "        0.0+0.0im         0.0+0.0im            0.0+0.0im         0.0+0.0im\n",
       "        0.0+0.0im         0.0+0.0im      0.0277405+0.0im         0.0+0.0im\n",
       "        0.0+0.0im         0.0+0.0im            0.0+0.0im   0.0277405+0.0im\n",
       "        0.0+0.0im         0.0+0.0im      0.0396255+0.0im         0.0+0.0im\n",
       "        0.0+0.0im         0.0+0.0im  …  -0.0646242+0.0im         0.0+0.0im\n",
       "        0.0+0.0im         0.0+0.0im       0.106488+0.0im   0.0396255+0.0im\n",
       "        0.0+0.0im         0.0+0.0im      -0.147085+0.0im  -0.0646242+0.0im"
      ]
     },
     "execution_count": 36,
     "metadata": {},
     "output_type": "execute_result"
    }
   ],
   "source": [
    "X"
   ]
  },
  {
   "cell_type": "code",
   "execution_count": 37,
   "metadata": {},
   "outputs": [
    {
     "data": {
      "text/latex": [
       "$$ \\begin{equation}\n",
       "\\left[\n",
       "\\begin{array}{cccccccccc}\n",
       " - h_1 & h_4 &  - h_7 & h_0 & 0 & 0 & 0 & 0 & 0 & 0 \\\\\n",
       " - h_2 & h_5 &  - h_8 & 0 & h_0 & 0 & 0 & 0 & 0 & 0 \\\\\n",
       " - h_3 & h_6 &  - h_9 & 0 & 0 & h_0 & 0 & 0 & 0 & 0 \\\\\n",
       "0 &  - h_1 & 0 & h_4 &  - h_7 & 0 & h_0 & 0 & 0 & 0 \\\\\n",
       "0 &  - h_2 & 0 & h_5 &  - h_8 & 0 & 0 & h_0 & 0 & 0 \\\\\n",
       "0 &  - h_3 & 0 & h_6 &  - h_9 & 0 & 0 & 0 & h_0 & 0 \\\\\n",
       "0 & 0 &  - h_1 & 0 & h_4 &  - h_7 & 0 & h_0 & 0 & 0 \\\\\n",
       "0 & 0 &  - h_2 & 0 & h_5 &  - h_8 & 0 & 0 & h_0 & 0 \\\\\n",
       "0 & 0 &  - h_3 & 0 & h_6 &  - h_9 & 0 & 0 & 0 & h_0 \\\\\n",
       "0 & 0 & 0 &  - h_2 & h_1 & 0 & h_5 &  - h_4 - h_8 & h_7 & 0 \\\\\n",
       "0 & 0 & 0 &  - h_3 & h_2 & 0 & h_6 &  - h_5 - h_9 & h_8 & 0 \\\\\n",
       "0 & 0 & 0 & 0 &  - h_2 & h_1 & 0 & h_5 &  - h_4 - h_8 & h_7 \\\\\n",
       "0 & 0 & 0 & 0 &  - h_3 & h_2 & 0 & h_6 &  - h_5 - h_9 & h_8 \\\\\n",
       "\\end{array}\n",
       "\\right]\n",
       "\\end{equation}\n",
       " $$"
      ],
      "text/plain": [
       "13×10 Matrix{Num}:\n",
       " -h[1]   h[4]  -h[7]   h[0]      0  …             0             0     0\n",
       " -h[2]   h[5]  -h[8]      0   h[0]                0             0     0\n",
       " -h[3]   h[6]  -h[9]      0      0                0             0     0\n",
       "     0  -h[1]      0   h[4]  -h[7]                0             0     0\n",
       "     0  -h[2]      0   h[5]  -h[8]             h[0]             0     0\n",
       "     0  -h[3]      0   h[6]  -h[9]  …             0          h[0]     0\n",
       "     0      0  -h[1]      0   h[4]             h[0]             0     0\n",
       "     0      0  -h[2]      0   h[5]                0          h[0]     0\n",
       "     0      0  -h[3]      0   h[6]                0             0  h[0]\n",
       "     0      0      0  -h[2]   h[1]     -h[4] - h[8]          h[7]     0\n",
       "     0      0      0  -h[3]   h[2]  …  -h[5] - h[9]          h[8]     0\n",
       "     0      0      0      0  -h[2]             h[5]  -h[4] - h[8]  h[7]\n",
       "     0      0      0      0  -h[3]             h[6]  -h[5] - h[9]  h[8]"
      ]
     },
     "execution_count": 37,
     "metadata": {},
     "output_type": "execute_result"
    }
   ],
   "source": [
    "Y"
   ]
  },
  {
   "cell_type": "code",
   "execution_count": 81,
   "metadata": {},
   "outputs": [
    {
     "data": {
      "text/plain": [
       "7-element Vector{Tuple{Tuple{Any, Any, Vararg{Int64}}, Tuple{Any, Any, Vararg{Int64}}}}:\n",
       " ((3, 0, 0), (0, 2, 0))\n",
       " ((3, 0, 0), (0, 1, 1))\n",
       " ((2, 1, 0), (0, 2, 0))\n",
       " ((2, 1, 0), (0, 1, 1))\n",
       " ((2, 0, 1), (0, 2, 0))\n",
       " ((2, 0, 1), (0, 1, 1))\n",
       " (((1, 2, 0), (0, 1, 1)), ((1, 1, 1), (0, 2, 0)))"
      ]
     },
     "execution_count": 81,
     "metadata": {},
     "output_type": "execute_result"
    }
   ],
   "source": [
    "ind = [1, 2, 4, 5, 7, 8, 10];\n",
    "eqTups[ind]"
   ]
  },
  {
   "cell_type": "code",
   "execution_count": 79,
   "metadata": {},
   "outputs": [
    {
     "data": {
      "text/plain": [
       "7-element Vector{Float64}:\n",
       " 0.16851643661532453\n",
       " 0.1597213244855862\n",
       " 0.12958565746181974\n",
       " 0.10693226435564374\n",
       " 0.05522880192177972\n",
       " 0.044989641724862035\n",
       " 9.711681128815708e-18"
      ]
     },
     "execution_count": 79,
     "metadata": {},
     "output_type": "execute_result"
    }
   ],
   "source": [
    "svdvals(X[ind, :])"
   ]
  },
  {
   "cell_type": "code",
   "execution_count": 80,
   "metadata": {},
   "outputs": [
    {
     "data": {
      "text/latex": [
       "$$ \\begin{equation}\n",
       "\\left[\n",
       "\\begin{array}{cccccccccc}\n",
       " - h_1 & h_4 &  - h_7 & h_0 & 0 & 0 & 0 & 0 & 0 & 0 \\\\\n",
       " - h_2 & h_5 &  - h_8 & 0 & h_0 & 0 & 0 & 0 & 0 & 0 \\\\\n",
       "0 &  - h_1 & 0 & h_4 &  - h_7 & 0 & h_0 & 0 & 0 & 0 \\\\\n",
       "0 &  - h_2 & 0 & h_5 &  - h_8 & 0 & 0 & h_0 & 0 & 0 \\\\\n",
       "0 & 0 &  - h_1 & 0 & h_4 &  - h_7 & 0 & h_0 & 0 & 0 \\\\\n",
       "0 & 0 &  - h_2 & 0 & h_5 &  - h_8 & 0 & 0 & h_0 & 0 \\\\\n",
       "0 & 0 & 0 &  - h_2 & h_1 & 0 & h_5 &  - h_4 - h_8 & h_7 & 0 \\\\\n",
       "\\end{array}\n",
       "\\right]\n",
       "\\end{equation}\n",
       " $$"
      ],
      "text/plain": [
       "7×10 Matrix{Num}:\n",
       " -h[1]   h[4]  -h[7]   h[0]      0      0     0             0     0  0\n",
       " -h[2]   h[5]  -h[8]      0   h[0]      0     0             0     0  0\n",
       "     0  -h[1]      0   h[4]  -h[7]      0  h[0]             0     0  0\n",
       "     0  -h[2]      0   h[5]  -h[8]      0     0          h[0]     0  0\n",
       "     0      0  -h[1]      0   h[4]  -h[7]     0          h[0]     0  0\n",
       "     0      0  -h[2]      0   h[5]  -h[8]     0             0  h[0]  0\n",
       "     0      0      0  -h[2]   h[1]      0  h[5]  -h[4] - h[8]  h[7]  0"
      ]
     },
     "execution_count": 80,
     "metadata": {},
     "output_type": "execute_result"
    }
   ],
   "source": [
    "Y[ind, :]"
   ]
  },
  {
   "cell_type": "markdown",
   "metadata": {},
   "source": [
    "As we can see, these 7 equations collectively involve 9 variables, and no subset of equations uses less variables than the size of the subset.  However, this matrix is rank 6.  Crucially, it involves an equation of the form $(((1, 2, 0), (0, 1, 1)), ((1, 1, 1), (0, 2, 0)))$, which would have been removed in our previous scheme to construct `Y2`.  \n",
    "\n",
    "From some observation, this is probably due to the fact that the 4th and 5th rows of this matrix share an $h_0$ term, and in this column the last equation with $-h_4-h_8$ is reflected in the fact that the 4th and 5th equations also involve one other variable in common, with exactly $-h_4, h_8$ as entries, respectively.  "
   ]
  },
  {
   "cell_type": "code",
   "execution_count": null,
   "metadata": {},
   "outputs": [],
   "source": []
  }
 ],
 "metadata": {
  "kernelspec": {
   "display_name": "Julia 1.10.3",
   "language": "julia",
   "name": "julia-1.10"
  },
  "language_info": {
   "file_extension": ".jl",
   "mimetype": "application/julia",
   "name": "julia",
   "version": "1.10.3"
  }
 },
 "nbformat": 4,
 "nbformat_minor": 2
}
